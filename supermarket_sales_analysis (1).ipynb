{
 "cells": [
  {
   "cell_type": "code",
   "execution_count": null,
   "id": "9a402c73",
   "metadata": {},
   "outputs": [],
   "source": [
    "import pandas as pd\n",
    "import numpy as np\n",
    "\n",
    "df = pd.read_csv('Supermart Grocery Sales - Retail Analytics Dataset.csv')\n",
    "df.columns = df.columns.str.lower().str.replace(' ', '_')\n",
    "df['order_date'] = pd.to_datetime(df['order_date'], errors='coerce', dayfirst=True)\n",
    "df['order_month'] = df['order_date'].dt.to_period('m')\n",
    "df['order_year'] = df['order_date'].dt.year\n",
    "df['order_day'] = df['order_date'].dt.day_name()\n",
    "df.info()"
   ]
  },
  {
   "cell_type": "code",
   "execution_count": null,
   "id": "fbb800ab",
   "metadata": {},
   "outputs": [],
   "source": [
    "import matplotlib.pyplot as plt\n",
    "\n",
    "monthly_sales = df.groupby('order_month')['sales'].sum().reset_index()\n",
    "monthly_sales['order_month'] = monthly_sales['order_month'].astype(str)\n",
    "\n",
    "plt.figure(figsize=(12,6))\n",
    "plt.plot(monthly_sales['order_month'], monthly_sales['sales'], marker='o', linestyle='-')\n",
    "plt.title('Monthly Sales Trend')\n",
    "plt.xlabel('Month')\n",
    "plt.ylabel('Total Sales')\n",
    "plt.xticks(rotation=45)\n",
    "plt.grid(True)\n",
    "plt.tight_layout()\n",
    "plt.show()"
   ]
  },
  {
   "cell_type": "code",
   "execution_count": null,
   "id": "f9aa91e9",
   "metadata": {},
   "outputs": [],
   "source": [
    "# Category and Sub-Category Sales and Profit\n",
    "import seaborn as sns\n",
    "\n",
    "category_perf = df.groupby(['category', 'sub_category'])[['sales', 'profit']].sum().reset_index()\n",
    "category_perf = category_perf.sort_values('sales', ascending=False)\n",
    "\n",
    "plt.figure(figsize=(14,6))\n",
    "sns.barplot(data=category_perf, x='sub_category', y='sales', hue='category')\n",
    "plt.title('Sales by Category and Sub-Category')\n",
    "plt.xlabel('Sub-Category')\n",
    "plt.ylabel('Total Sales')\n",
    "plt.xticks(rotation=45)\n",
    "plt.legend(title='Category')\n",
    "plt.tight_layout()\n",
    "plt.show()"
   ]
  },
  {
   "cell_type": "code",
   "execution_count": null,
   "id": "c178ebce",
   "metadata": {},
   "outputs": [],
   "source": [
    "# Discount vs Profit by Category\n",
    "plt.figure(figsize=(10,6))\n",
    "sns.set_style(\"whitegrid\")\n",
    "sns.scatterplot(data=df, x='discount', y='profit', hue='category', alpha=0.6)\n",
    "plt.title('Discount vs Profit by Category')\n",
    "plt.show()"
   ]
  },
  {
   "cell_type": "code",
   "execution_count": null,
   "id": "3a7ff476",
   "metadata": {},
   "outputs": [],
   "source": [
    "# Profit by State\n",
    "state_profit = df.groupby('state')['profit'].sum().reset_index()\n",
    "state_profit = state_profit.sort_values(by='profit', ascending=False)\n",
    "\n",
    "plt.figure(figsize=(14, 6))\n",
    "sns.barplot(data=state_profit, x='state', y='profit', palette='coolwarm')\n",
    "plt.title('Total Profit by State')\n",
    "plt.xticks(rotation=45)\n",
    "plt.xlabel('State')\n",
    "plt.ylabel('Total Profit')\n",
    "plt.axhline(0, color='black', linestyle='--')\n",
    "plt.tight_layout()\n",
    "plt.show()"
   ]
  }
 ],
 "metadata": {},
 "nbformat": 4,
 "nbformat_minor": 5
}
