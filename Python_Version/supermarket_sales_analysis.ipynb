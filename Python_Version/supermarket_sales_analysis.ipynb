import pandas as pd
import numpy as np

df = pd.read_csv('Supermart Grocery Sales - Retail Analytics Dataset.csv')
df.columns = df.columns.str.lower().str.replace(' ', '_')
df['order_date'] = pd.to_datetime(df['order_date'], errors='coerce', dayfirst=True)
df['order_month'] = df['order_date'].dt.to_period('m')
df['order_year'] = df['order_date'].dt.year
df['order_day'] = df['order_date'].dt.day_name()
df.info()
     

import matplotlib.pyplot as plt

monthly_sales = df.groupby('order_month')['sales'].sum().reset_index()
monthly_sales['order_month'] = monthly_sales['order_month'].astype(str)

plt.figure(figsize=(12,6))
plt.plot(monthly_sales['order_month'], monthly_sales['sales'], marker='o', linestyle='-')
plt.title('Monthly Sales Trend')
plt.xlabel('Month')
plt.ylabel('Total Sales')
plt.xticks(rotation=45)
plt.grid(True)
plt.tight_layout()
plt.show()
     

# Category and Sub-Category Sales and Profit
import seaborn as sns

category_perf = df.groupby(['category', 'sub_category'])[['sales', 'profit']].sum().reset_index()
category_perf = category_perf.sort_values('sales', ascending=False)

plt.figure(figsize=(14,6))
sns.barplot(data=category_perf, x='sub_category', y='sales', hue='category')
plt.title('Sales by Category and Sub-Category')
plt.xlabel('Sub-Category')
plt.ylabel('Total Sales')
plt.xticks(rotation=45)
plt.legend(title='Category')
plt.tight_layout()
plt.show()
     

# Discount vs Profit by Category
plt.figure(figsize=(10,6))
sns.set_style("whitegrid")
sns.scatterplot(data=df, x='discount', y='profit', hue='category', alpha=0.6)
plt.title('Discount vs Profit by Category')
plt.show()
     

# Profit by State
state_profit = df.groupby('state')['profit'].sum().reset_index()
state_profit = state_profit.sort_values(by='profit', ascending=False)

plt.figure(figsize=(14, 6))
sns.barplot(data=state_profit, x='state', y='profit', palette='coolwarm')
plt.title('Total Profit by State')
plt.xticks(rotation=45)
plt.xlabel('State')
plt.ylabel('Total Profit')
plt.axhline(0, color='black', linestyle='--')
plt.tight_layout()
plt.show()# Jupyter Notebook Placeholder
